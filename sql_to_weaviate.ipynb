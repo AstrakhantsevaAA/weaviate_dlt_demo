{
 "cells": [
  {
   "cell_type": "code",
   "execution_count": 1,
   "outputs": [],
   "source": [
    "!pip install -q \"dlt[weaviate]\""
   ],
   "metadata": {
    "collapsed": false,
    "ExecuteTime": {
     "end_time": "2023-09-07T16:15:35.646303736Z",
     "start_time": "2023-09-07T16:15:32.762937679Z"
    }
   },
   "id": "2841cf5886b5df42"
  },
  {
   "cell_type": "code",
   "execution_count": 3,
   "outputs": [
    {
     "name": "stdout",
     "output_type": "stream",
     "text": [
      "Looking in indexes: https://pypi.org/simple, https://packagecloud.io/github/git-lfs/pypi/simple\r\n",
      "Requirement already satisfied: sqlalchemy in /home/alenaastrakhantseva/.cache/pypoetry/virtualenvs/weaviate-demo-9BqQS6RD-py3.10/lib/python3.10/site-packages (2.0.20)\r\n",
      "Collecting pymysql\r\n",
      "  Obtaining dependency information for pymysql from https://files.pythonhosted.org/packages/e5/30/20467e39523d0cfc2b6227902d3687a16364307260c75e6a1cb4422b0c62/PyMySQL-1.1.0-py3-none-any.whl.metadata\r\n",
      "  Downloading PyMySQL-1.1.0-py3-none-any.whl.metadata (4.4 kB)\r\n",
      "Requirement already satisfied: typing-extensions>=4.2.0 in /home/alenaastrakhantseva/.cache/pypoetry/virtualenvs/weaviate-demo-9BqQS6RD-py3.10/lib/python3.10/site-packages (from sqlalchemy) (4.7.1)\r\n",
      "Requirement already satisfied: greenlet!=0.4.17 in /home/alenaastrakhantseva/.cache/pypoetry/virtualenvs/weaviate-demo-9BqQS6RD-py3.10/lib/python3.10/site-packages (from sqlalchemy) (2.0.2)\r\n",
      "Downloading PyMySQL-1.1.0-py3-none-any.whl (44 kB)\r\n",
      "\u001B[2K   \u001B[90m━━━━━━━━━━━━━━━━━━━━━━━━━━━━━━━━━━━━━━━━\u001B[0m \u001B[32m44.8/44.8 kB\u001B[0m \u001B[31m2.0 MB/s\u001B[0m eta \u001B[36m0:00:00\u001B[0m\r\n",
      "\u001B[?25hInstalling collected packages: pymysql\r\n",
      "Successfully installed pymysql-1.1.0\r\n"
     ]
    }
   ],
   "source": [
    "!pip install sqlalchemy pymysql"
   ],
   "metadata": {
    "collapsed": false,
    "ExecuteTime": {
     "end_time": "2023-09-07T16:25:00.258134826Z",
     "start_time": "2023-09-07T16:24:56.700176968Z"
    }
   },
   "id": "998f9710b6661067"
  },
  {
   "cell_type": "code",
   "execution_count": 2,
   "outputs": [
    {
     "name": "stdout",
     "output_type": "stream",
     "text": [
      "Looking up the init scripts in \u001B[1mhttps://github.com/dlt-hub/verified-sources.git\u001B[0m...\r\n",
      "Cloning and configuring a verified source \u001B[1msql_database\u001B[0m (Source that loads tables form any SQLAlchemy supported database, supports batching requests and incremental loads.)\r\n",
      "\r\n",
      "Verified source \u001B[1msql_database\u001B[0m was added to your project!\r\n",
      "* See the usage examples and code snippets to copy from \u001B[1msql_database_pipeline.py\u001B[0m\r\n",
      "* Add credentials for \u001B[1mweaviate\u001B[0m and other secrets in \u001B[1m./.dlt/secrets.toml\u001B[0m\r\n",
      "* Add the required dependencies to \u001B[1mpyproject.toml\u001B[0m:\r\n",
      "  \u001B[1msqlalchemy>=1.4\u001B[0m\r\n",
      "  \u001B[1mdlt[weaviate]<0.4,>=0.3.5\u001B[0m\r\n",
      "  If the dlt dependency is already added, make sure you install the extra for \u001B[1mweaviate\u001B[0m to it\r\n",
      "  If you are using poetry you may issue the following command:\r\n",
      "\u001B[1m  poetry add dlt -E weaviate\u001B[0m\r\n",
      "\r\n",
      "* Read \u001B[1mhttps://dlthub.com/docs/walkthroughs/create-a-pipeline\u001B[0m for more information\r\n"
     ]
    }
   ],
   "source": [
    "!dlt --non-interactive init sql_database weaviate "
   ],
   "metadata": {
    "collapsed": false,
    "ExecuteTime": {
     "end_time": "2023-09-07T16:15:39.112449485Z",
     "start_time": "2023-09-07T16:15:35.652268880Z"
    }
   },
   "id": "82b557c903459372"
  },
  {
   "cell_type": "code",
   "execution_count": 12,
   "outputs": [],
   "source": [
    "import os\n",
    "import weaviate\n",
    "\n",
    "\n",
    "def show_data(class_name, properties):\n",
    "    client = weaviate.Client(\n",
    "        url=os.getenv(\"WEAVIATE_URL\"),\n",
    "        auth_client_secret=weaviate.AuthApiKey(\n",
    "            api_key=os.getenv(\"WEAVIATE_API_KEY\")\n",
    "        ),\n",
    "        additional_headers={\n",
    "            \"X-OpenAI-Api-Key\": os.getenv(\"WEAVIATE_OPENAI_KEY\")\n",
    "        }\n",
    "    )\n",
    "\n",
    "    response = (\n",
    "        client.query\n",
    "        .get(class_name, properties)\n",
    "        .do()\n",
    "    )\n",
    "    return response"
   ],
   "metadata": {
    "collapsed": false,
    "ExecuteTime": {
     "end_time": "2023-09-07T16:39:30.455113374Z",
     "start_time": "2023-09-07T16:39:30.414665860Z"
    }
   },
   "id": "f96b7b53f2250ad"
  },
  {
   "cell_type": "code",
   "execution_count": 4,
   "outputs": [
    {
     "name": "stderr",
     "output_type": "stream",
     "text": [
      "/home/alenaastrakhantseva/.cache/pypoetry/virtualenvs/weaviate-demo-9BqQS6RD-py3.10/lib/python3.10/site-packages/weaviate/warnings.py:130: DeprecationWarning: Dep006: You are using the `client.batch()` method, which will be removed in the next major release.\n",
      "            Please instead use the `client.batch.configure()` method to configure your batch and `client.batch` to enter the context manager.\n",
      "            See https://weaviate.io/developers/weaviate/client-libraries/python for details.\n",
      "  warnings.warn(\n"
     ]
    },
    {
     "name": "stdout",
     "output_type": "stream",
     "text": [
      "Normalized data for the following tables:\n",
      "- DltPipelineState: 1 row(s)\n",
      "- Family: 4108 row(s)\n",
      "\n",
      "------\n",
      "Pipeline rfam completed in 1 minute and 37.41 seconds\n",
      "1 load package(s) were loaded to destination weaviate and into dataset Rfam\n",
      "The weaviate destination used https://demo-1-wvxjul5s.weaviate.network location to store data\n",
      "Load package 1694104408.537511 is LOADED and contains no failed jobs\n"
     ]
    }
   ],
   "source": [
    "import dlt\n",
    "from dlt.destinations.weaviate import weaviate_adapter\n",
    "\n",
    "from sql_database import sql_database, sql_table\n",
    "\n",
    "pipeline = dlt.pipeline(\n",
    "     pipeline_name=\"rfam\", destination='weaviate', dataset_name=\"rfam\"\n",
    ")\n",
    "\n",
    "load_source = sql_table(table=\"family\",)\n",
    "load_info = pipeline.run(weaviate_adapter(load_source, vectorize=\"description\", tokenization={\"description\": \"word\"}))\n",
    "# load_info = pipeline.run(load_source, write_disposition=\"replace\")\n",
    "# pretty print the information on data that was loaded\n",
    "row_counts = pipeline.last_trace.last_normalize_info\n",
    "print(row_counts)\n",
    "print(\"------\")\n",
    "print(load_info)"
   ],
   "metadata": {
    "collapsed": false,
    "ExecuteTime": {
     "end_time": "2023-09-07T16:35:03.547036147Z",
     "start_time": "2023-09-07T16:33:25.356346391Z"
    }
   },
   "id": "3972d77c699a500a"
  },
  {
   "cell_type": "code",
   "execution_count": 14,
   "outputs": [
    {
     "data": {
      "text/plain": "{'data': {'Get': {'Rfam_Family': [{'description': 'CDKN2B antisense RNA 1 intronic convserved region'},\n    {'description': 'microRNA mir-605'},\n    {'description': 'mir-974 microRNA precursor family'},\n    {'description': 'microRNA mir-633'},\n    {'description': 'microRNA mir-569'},\n    {'description': 'mir-6715 microRNA precursor family'},\n    {'description': 'Small nucleolar RNA Z103'},\n    {'description': 'Small nucleolar RNA SNORD70'},\n    {'description': 'mir-5856 microRNA precursor family'},\n    {'description': 'ctRNA'},\n    {'description': 'MIR4245 microRNA precursor family'},\n    {'description': 'mir-2068 microRNA precursor family'},\n    {'description': 'mir-5890 microRNA precursor family'},\n    {'description': 'Leptospira sRNA 30_255'},\n    {'description': 'Pospiviroid RY motif stem loop'},\n    {'description': 'TeloSII non coding RNA 45'},\n    {'description': 'MIR2871 microRNA precursor family'},\n    {'description': 'mir-1017 microRNA precursor family'},\n    {'description': 'Rickettsia rpsL leader'},\n    {'description': 'microRNA mir-70'},\n    {'description': 'MIR1882 microRNA precursor family'},\n    {'description': 'L31-Coriobacteria ribosomal protein leader'},\n    {'description': 'Small nucleolar RNA snoR60'},\n    {'description': 'Brucella sRNA 1350'},\n    {'description': 'mir-3121 microRNA precursor family'},\n    {'description': 'microRNA MIR1122'},\n    {'description': 'Gag/pro ribosomal frameshift site'},\n    {'description': 'RT-3 RNA'},\n    {'description': 'mir-2513 microRNA precursor family'},\n    {'description': 'Rhodo-rpoB RNA'},\n    {'description': 'Antisense to pHK01_099'},\n    {'description': 'SPRY4-IT1 conserved region 2'},\n    {'description': 'Small nucleolar RNA snR44'},\n    {'description': 'Fluoride riboswitch (crcB)'},\n    {'description': 'mir-156 microRNA precursor'},\n    {'description': 'mir-4773 microRNA precursor family'},\n    {'description': 'mir-1397 microRNA precursor family'},\n    {'description': 'mir-3047 microRNA precursor family'},\n    {'description': 'Non-coding RNA BC040587'},\n    {'description': 'TeloSII non coding RNA 30'},\n    {'description': 'microRNA mir-636'},\n    {'description': 'microRNA mir-214'},\n    {'description': \"Flavivirus 5' UTR\"},\n    {'description': 'mir-561 microRNA precursor family'},\n    {'description': 'Burkholderia sRNA 37'},\n    {'description': 'RAGATH-6 RNA'},\n    {'description': 'Small nucleolar RNA ZL1'},\n    {'description': 'osmY RNA'},\n    {'description': \"AilA 5' UTR thermometer\"},\n    {'description': 'SMAD5 antisense RNA 1 conserved region 3'},\n    {'description': 'Fst antitoxin sRNA'},\n    {'description': 'DUF3800-XI RNA'},\n    {'description': 'Caenorhabditis snoRNA ceN46'},\n    {'description': 'FTX transcript, XIST regulator conserved region 4'},\n    {'description': 'Streptococcus sRNA SpF11'},\n    {'description': 'mir-15_2 microRNA precursor family'},\n    {'description': 'microRNA mir-2518'},\n    {'description': 'mir-3347 microRNA precursor family'},\n    {'description': \"Insect-specific Flavivirus 3' UTR cis-acting replication element (CRE)\"},\n    {'description': 'Burkholderia sRNA Bp1_Cand612_SIPHT'},\n    {'description': 'mir-2235 microRNA precursor family'},\n    {'description': 'Listeria sRNA rliB'},\n    {'description': 'mir-3618 microRNA precursor family'},\n    {'description': 'Salmonella enterica conserved region STnc30'},\n    {'description': 'mir-4526 microRNA precursor family'},\n    {'description': 'S. pyogenes small RNA 1186876'},\n    {'description': 'mir-3064 microRNA precursor family'},\n    {'description': 'Fungal small nucleolar RNA U3'},\n    {'description': 'mir-3204 microRNA precursor family'},\n    {'description': 'mir-5928 microRNA precursor family'},\n    {'description': 'Small nucleolar RNA U18'},\n    {'description': 'Small nucleolar RNA sR48'},\n    {'description': 'RAGATH-15 RNA'},\n    {'description': 'Streptomyces sRNA 4677'},\n    {'description': 'mir-4079 microRNA precursor family'},\n    {'description': 'microRNA mir-58'},\n    {'description': 'Small nucleolar RNA SNORD60'},\n    {'description': 'Listeria sRNA rli43'},\n    {'description': 'RAGATH-13 RNA'},\n    {'description': 'Plasmodium RNA of unkown function RU6-F3'},\n    {'description': 'mir-2059 microRNA precursor family'},\n    {'description': 'Small nucleolar RNA ACA59'},\n    {'description': 'microRNA mir-328'},\n    {'description': 'mir-2278 microRNA precursor family'},\n    {'description': 'microRNA mir-330'},\n    {'description': 'Pseudomonas sRNA P34'},\n    {'description': 'Small nucleolar RNA Z39'},\n    {'description': 'Small nucleolar RNA SNORA15'},\n    {'description': 'Small nucleolar RNA snoR144'},\n    {'description': 'Vibrio alginolyticus sRNA 907'},\n    {'description': 'Deleted in lymphocytic leukemia 2 conserved region 3'},\n    {'description': 'mir-1822 microRNA precursor family'},\n    {'description': 'MIR7725 microRNA precursor family'},\n    {'description': 'mir-6129 microRNA precursor family'},\n    {'description': 'mir-2767 microRNA precursor family'},\n    {'description': 'CRISPR RNA direct repeat element'},\n    {'description': 'S15-Flavobacteria ribosomal protein leader'},\n    {'description': 'Actinomyces-1 RNA'},\n    {'description': 'Small Cajal body specific RNA ncR21'},\n    {'description': 'Z30 small nucleolar RNA'}]}}}"
     },
     "execution_count": 14,
     "metadata": {},
     "output_type": "execute_result"
    }
   ],
   "source": [
    "show_data(\"Rfam_Family\", [\"description\"])"
   ],
   "metadata": {
    "collapsed": false,
    "ExecuteTime": {
     "end_time": "2023-09-07T16:39:43.839817411Z",
     "start_time": "2023-09-07T16:39:42.788097606Z"
    }
   },
   "id": "942793b835309409"
  },
  {
   "cell_type": "code",
   "execution_count": null,
   "outputs": [],
   "source": [],
   "metadata": {
    "collapsed": false
   },
   "id": "9ee3923ac6e8efa8"
  }
 ],
 "metadata": {
  "kernelspec": {
   "display_name": "Python 3",
   "language": "python",
   "name": "python3"
  },
  "language_info": {
   "codemirror_mode": {
    "name": "ipython",
    "version": 2
   },
   "file_extension": ".py",
   "mimetype": "text/x-python",
   "name": "python",
   "nbconvert_exporter": "python",
   "pygments_lexer": "ipython2",
   "version": "2.7.6"
  }
 },
 "nbformat": 4,
 "nbformat_minor": 5
}
